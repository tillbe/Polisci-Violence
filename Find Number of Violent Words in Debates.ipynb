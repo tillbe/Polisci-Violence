{
 "cells": [
  {
   "cell_type": "markdown",
   "metadata": {},
   "source": [
    "# ReadMe\n",
    "\n",
    "This script compares the ratio of violent words in articles about debates to other newspaper articles in the "
   ]
  },
  {
   "cell_type": "code",
   "execution_count": 17,
   "metadata": {
    "collapsed": true
   },
   "outputs": [],
   "source": [
    "import pymongo\n",
    "import pandas as pd\n",
    "import numpy as np\n",
    "import seaborn as sns\n",
    "import matplotlib.pyplot as plt\n",
    "%matplotlib inline\n",
    "\n",
    "from nltk.stem import SnowballStemmer \n",
    "\n",
    "from tqdm import tqdm\n",
    "from textblob import TextBlob"
   ]
  },
  {
   "cell_type": "code",
   "execution_count": 2,
   "metadata": {
    "collapsed": false
   },
   "outputs": [],
   "source": [
    "client = pymongo.Connection()\n",
    "collection = client.politics.debates"
   ]
  },
  {
   "cell_type": "code",
   "execution_count": 19,
   "metadata": {
    "collapsed": false
   },
   "outputs": [],
   "source": [
    "sb = SnowballStemmer(\"english\")"
   ]
  },
  {
   "cell_type": "code",
   "execution_count": 3,
   "metadata": {
    "collapsed": false
   },
   "outputs": [
    {
     "data": {
      "text/html": [
       "<div style=\"max-height:1000px;max-width:1500px;overflow:auto;\">\n",
       "<table border=\"1\" class=\"dataframe\">\n",
       "  <thead>\n",
       "    <tr style=\"text-align: right;\">\n",
       "      <th></th>\n",
       "      <th>_id</th>\n",
       "      <th>days_after</th>\n",
       "      <th>debate</th>\n",
       "      <th>newspaper</th>\n",
       "      <th>stemmed</th>\n",
       "      <th>text</th>\n",
       "      <th>title</th>\n",
       "      <th>word_count</th>\n",
       "      <th>year</th>\n",
       "    </tr>\n",
       "  </thead>\n",
       "  <tbody>\n",
       "    <tr>\n",
       "      <th>0</th>\n",
       "      <td>100</td>\n",
       "      <td>1</td>\n",
       "      <td>2</td>\n",
       "      <td>The Gazette</td>\n",
       "      <td>[aggress, obama, goe, offens, presid, invok, t...</td>\n",
       "      <td>﻿\\nMore aggressive Obama goes on offensive; Pr...</td>\n",
       "      <td>More aggressive Obama goes on offensive</td>\n",
       "      <td>888</td>\n",
       "      <td>2012</td>\n",
       "    </tr>\n",
       "    <tr>\n",
       "      <th>1</th>\n",
       "      <td>104</td>\n",
       "      <td>1</td>\n",
       "      <td>3</td>\n",
       "      <td>The New York Post</td>\n",
       "      <td>[america, decid, desper, bam, bomb, romney, ch...</td>\n",
       "      <td>﻿\\nAmerica Decides Desperate Bam 'bombs' Romne...</td>\n",
       "      <td>America Decides Desperate Bam 'bombs' Romney B...</td>\n",
       "      <td>1115</td>\n",
       "      <td>2012</td>\n",
       "    </tr>\n",
       "    <tr>\n",
       "      <th>2</th>\n",
       "      <td>105</td>\n",
       "      <td>0</td>\n",
       "      <td>3</td>\n",
       "      <td>Hollywood Reporter</td>\n",
       "      <td>[obamaromney, final, debat, pundit, say, presi...</td>\n",
       "      <td>﻿\\nObama-Romney Final Debate: What the Pundits...</td>\n",
       "      <td>Obama-Romney Final Debate: What the Pundits Ar...</td>\n",
       "      <td>1096</td>\n",
       "      <td>2012</td>\n",
       "    </tr>\n",
       "    <tr>\n",
       "      <th>3</th>\n",
       "      <td>115</td>\n",
       "      <td>2</td>\n",
       "      <td>3</td>\n",
       "      <td>The Guardian</td>\n",
       "      <td>[elect, obama, put, posit, spin, final, debat,...</td>\n",
       "      <td>﻿\\nUS election: Obama puts on a positive spin ...</td>\n",
       "      <td>US election: Obama puts on a positive spin aft...</td>\n",
       "      <td>893</td>\n",
       "      <td>2012</td>\n",
       "    </tr>\n",
       "    <tr>\n",
       "      <th>4</th>\n",
       "      <td>116</td>\n",
       "      <td>0</td>\n",
       "      <td>3</td>\n",
       "      <td>The Telegraph-Journal</td>\n",
       "      <td>[libya, misfir, pressur, romney, washington, p...</td>\n",
       "      <td>﻿\\nAfter Libya misfire, pressure on Romney\\nWA...</td>\n",
       "      <td>After Libya misfire, pressure on Romney</td>\n",
       "      <td>1087</td>\n",
       "      <td>2012</td>\n",
       "    </tr>\n",
       "  </tbody>\n",
       "</table>\n",
       "</div>"
      ],
      "text/plain": [
       "   _id  days_after debate              newspaper  \\\n",
       "0  100           1      2            The Gazette   \n",
       "1  104           1      3      The New York Post   \n",
       "2  105           0      3     Hollywood Reporter   \n",
       "3  115           2      3           The Guardian   \n",
       "4  116           0      3  The Telegraph-Journal   \n",
       "\n",
       "                                             stemmed  \\\n",
       "0  [aggress, obama, goe, offens, presid, invok, t...   \n",
       "1  [america, decid, desper, bam, bomb, romney, ch...   \n",
       "2  [obamaromney, final, debat, pundit, say, presi...   \n",
       "3  [elect, obama, put, posit, spin, final, debat,...   \n",
       "4  [libya, misfir, pressur, romney, washington, p...   \n",
       "\n",
       "                                                text  \\\n",
       "0  ﻿\\nMore aggressive Obama goes on offensive; Pr...   \n",
       "1  ﻿\\nAmerica Decides Desperate Bam 'bombs' Romne...   \n",
       "2  ﻿\\nObama-Romney Final Debate: What the Pundits...   \n",
       "3  ﻿\\nUS election: Obama puts on a positive spin ...   \n",
       "4  ﻿\\nAfter Libya misfire, pressure on Romney\\nWA...   \n",
       "\n",
       "                                               title  word_count  year  \n",
       "0            More aggressive Obama goes on offensive         888  2012  \n",
       "1  America Decides Desperate Bam 'bombs' Romney B...        1115  2012  \n",
       "2  Obama-Romney Final Debate: What the Pundits Ar...        1096  2012  \n",
       "3  US election: Obama puts on a positive spin aft...         893  2012  \n",
       "4            After Libya misfire, pressure on Romney        1087  2012  "
      ]
     },
     "execution_count": 3,
     "metadata": {},
     "output_type": "execute_result"
    }
   ],
   "source": [
    "texts = collection.find()\n",
    "df = pd.DataFrame(list(texts))\n",
    "df[\"debate\"] = df[\"debate\"].astype(str)\n",
    "df.head()"
   ]
  },
  {
   "cell_type": "code",
   "execution_count": 4,
   "metadata": {
    "collapsed": false
   },
   "outputs": [],
   "source": [
    "# read in violent word data\n",
    "with open(\"violent_words.txt\") as fh:\n",
    "    target_words = fh.read().split(\"\\n\")\n",
    "target_words = [x for x in target_words if x not in [\"club\", \"set\",\"burn\",\"war\"]]\n",
    "target_words.append(\"aggress\") # we want to also have aggressive in there"
   ]
  },
  {
   "cell_type": "code",
   "execution_count": 5,
   "metadata": {
    "collapsed": false
   },
   "outputs": [],
   "source": [
    "df[\"matches\"] = df[\"stemmed\"].apply(lambda l: [x for x in l if x in target_words])"
   ]
  },
  {
   "cell_type": "code",
   "execution_count": 6,
   "metadata": {
    "collapsed": false
   },
   "outputs": [
    {
     "data": {
      "text/html": [
       "<div style=\"max-height:1000px;max-width:1500px;overflow:auto;\">\n",
       "<table border=\"1\" class=\"dataframe\">\n",
       "  <thead>\n",
       "    <tr style=\"text-align: right;\">\n",
       "      <th></th>\n",
       "      <th>_id</th>\n",
       "      <th>days_after</th>\n",
       "      <th>debate</th>\n",
       "      <th>newspaper</th>\n",
       "      <th>stemmed</th>\n",
       "      <th>text</th>\n",
       "      <th>title</th>\n",
       "      <th>word_count</th>\n",
       "      <th>year</th>\n",
       "      <th>matches</th>\n",
       "    </tr>\n",
       "  </thead>\n",
       "  <tbody>\n",
       "    <tr>\n",
       "      <th>0</th>\n",
       "      <td>100</td>\n",
       "      <td>1</td>\n",
       "      <td>2</td>\n",
       "      <td>The Gazette</td>\n",
       "      <td>[aggress, obama, goe, offens, presid, invok, t...</td>\n",
       "      <td>﻿\\nMore aggressive Obama goes on offensive; Pr...</td>\n",
       "      <td>More aggressive Obama goes on offensive</td>\n",
       "      <td>888</td>\n",
       "      <td>2012</td>\n",
       "      <td>[aggress, offens, struggl, aggress, hold, cut,...</td>\n",
       "    </tr>\n",
       "    <tr>\n",
       "      <th>1</th>\n",
       "      <td>104</td>\n",
       "      <td>1</td>\n",
       "      <td>3</td>\n",
       "      <td>The New York Post</td>\n",
       "      <td>[america, decid, desper, bam, bomb, romney, ch...</td>\n",
       "      <td>﻿\\nAmerica Decides Desperate Bam 'bombs' Romne...</td>\n",
       "      <td>America Decides Desperate Bam 'bombs' Romney B...</td>\n",
       "      <td>1115</td>\n",
       "      <td>2012</td>\n",
       "      <td>[bomb, bomb, attack, attack, aggress, hit, sti...</td>\n",
       "    </tr>\n",
       "    <tr>\n",
       "      <th>2</th>\n",
       "      <td>105</td>\n",
       "      <td>0</td>\n",
       "      <td>3</td>\n",
       "      <td>Hollywood Reporter</td>\n",
       "      <td>[obamaromney, final, debat, pundit, say, presi...</td>\n",
       "      <td>﻿\\nObama-Romney Final Debate: What the Pundits...</td>\n",
       "      <td>Obama-Romney Final Debate: What the Pundits Ar...</td>\n",
       "      <td>1096</td>\n",
       "      <td>2012</td>\n",
       "      <td>[showdown, attack, aggress, struggl, hurt, str...</td>\n",
       "    </tr>\n",
       "    <tr>\n",
       "      <th>3</th>\n",
       "      <td>115</td>\n",
       "      <td>2</td>\n",
       "      <td>3</td>\n",
       "      <td>The Guardian</td>\n",
       "      <td>[elect, obama, put, posit, spin, final, debat,...</td>\n",
       "      <td>﻿\\nUS election: Obama puts on a positive spin ...</td>\n",
       "      <td>US election: Obama puts on a positive spin aft...</td>\n",
       "      <td>893</td>\n",
       "      <td>2012</td>\n",
       "      <td>[attack, hit, hold, attack, attack, bayonet, a...</td>\n",
       "    </tr>\n",
       "    <tr>\n",
       "      <th>4</th>\n",
       "      <td>116</td>\n",
       "      <td>0</td>\n",
       "      <td>3</td>\n",
       "      <td>The Telegraph-Journal</td>\n",
       "      <td>[libya, misfir, pressur, romney, washington, p...</td>\n",
       "      <td>﻿\\nAfter Libya misfire, pressure on Romney\\nWA...</td>\n",
       "      <td>After Libya misfire, pressure on Romney</td>\n",
       "      <td>1087</td>\n",
       "      <td>2012</td>\n",
       "      <td>[struggl, showdown, attack, attack, attack, at...</td>\n",
       "    </tr>\n",
       "  </tbody>\n",
       "</table>\n",
       "</div>"
      ],
      "text/plain": [
       "   _id  days_after debate              newspaper  \\\n",
       "0  100           1      2            The Gazette   \n",
       "1  104           1      3      The New York Post   \n",
       "2  105           0      3     Hollywood Reporter   \n",
       "3  115           2      3           The Guardian   \n",
       "4  116           0      3  The Telegraph-Journal   \n",
       "\n",
       "                                             stemmed  \\\n",
       "0  [aggress, obama, goe, offens, presid, invok, t...   \n",
       "1  [america, decid, desper, bam, bomb, romney, ch...   \n",
       "2  [obamaromney, final, debat, pundit, say, presi...   \n",
       "3  [elect, obama, put, posit, spin, final, debat,...   \n",
       "4  [libya, misfir, pressur, romney, washington, p...   \n",
       "\n",
       "                                                text  \\\n",
       "0  ﻿\\nMore aggressive Obama goes on offensive; Pr...   \n",
       "1  ﻿\\nAmerica Decides Desperate Bam 'bombs' Romne...   \n",
       "2  ﻿\\nObama-Romney Final Debate: What the Pundits...   \n",
       "3  ﻿\\nUS election: Obama puts on a positive spin ...   \n",
       "4  ﻿\\nAfter Libya misfire, pressure on Romney\\nWA...   \n",
       "\n",
       "                                               title  word_count  year  \\\n",
       "0            More aggressive Obama goes on offensive         888  2012   \n",
       "1  America Decides Desperate Bam 'bombs' Romney B...        1115  2012   \n",
       "2  Obama-Romney Final Debate: What the Pundits Ar...        1096  2012   \n",
       "3  US election: Obama puts on a positive spin aft...         893  2012   \n",
       "4            After Libya misfire, pressure on Romney        1087  2012   \n",
       "\n",
       "                                             matches  \n",
       "0  [aggress, offens, struggl, aggress, hold, cut,...  \n",
       "1  [bomb, bomb, attack, attack, aggress, hit, sti...  \n",
       "2  [showdown, attack, aggress, struggl, hurt, str...  \n",
       "3  [attack, hit, hold, attack, attack, bayonet, a...  \n",
       "4  [struggl, showdown, attack, attack, attack, at...  "
      ]
     },
     "execution_count": 6,
     "metadata": {},
     "output_type": "execute_result"
    }
   ],
   "source": [
    "df.head()"
   ]
  },
  {
   "cell_type": "code",
   "execution_count": 7,
   "metadata": {
    "collapsed": false
   },
   "outputs": [],
   "source": [
    "df[\"ratio\"] = df.apply(lambda row: (len(row[\"matches\"]))/(len(row[\"stemmed\"])),axis=1)"
   ]
  },
  {
   "cell_type": "code",
   "execution_count": 41,
   "metadata": {
    "collapsed": false
   },
   "outputs": [
    {
     "data": {
      "text/plain": [
       "(0, 0.025)"
      ]
     },
     "execution_count": 41,
     "metadata": {},
     "output_type": "execute_result"
    },
    {
     "data": {
      "image/png": "[encoded data removed]",
      "text/plain": [
       "<matplotlib.figure.Figure at 0x10dcd4908>"
      ]
     },
     "metadata": {},
     "output_type": "display_data"
    }
   ],
   "source": [
    "df.groupby(\"days_after\").mean()[\"ratio\"].plot(kind = \"bar\")\n",
    "plt.ylim(0,0.025)"
   ]
  },
  {
   "cell_type": "markdown",
   "metadata": {},
   "source": [
    "# Compare to Other News Articles in Brown corpus"
   ]
  },
  {
   "cell_type": "markdown",
   "metadata": {},
   "source": [
    "How many violent words are used in the new articles in the brown corpus?"
   ]
  },
  {
   "cell_type": "code",
   "execution_count": 69,
   "metadata": {
    "collapsed": false
   },
   "outputs": [],
   "source": [
    "brown_data = pd.DataFrame(list(client.politics.brown.find()))"
   ]
  },
  {
   "cell_type": "code",
   "execution_count": 76,
   "metadata": {
    "collapsed": false
   },
   "outputs": [
    {
     "data": {
      "text/html": [
       "<div style=\"max-height:1000px;max-width:1500px;overflow:auto;\">\n",
       "<table border=\"1\" class=\"dataframe\">\n",
       "  <thead>\n",
       "    <tr style=\"text-align: right;\">\n",
       "      <th></th>\n",
       "      <th>_id</th>\n",
       "      <th>category</th>\n",
       "      <th>stemmed</th>\n",
       "      <th>matches</th>\n",
       "      <th>ratio</th>\n",
       "    </tr>\n",
       "  </thead>\n",
       "  <tbody>\n",
       "    <tr>\n",
       "      <th>0</th>\n",
       "      <td>ca01</td>\n",
       "      <td>[news]</td>\n",
       "      <td>[fulton, counti, grand, juri, said, friday, in...</td>\n",
       "      <td>[charg, charg, swipe, charg, charg, hold, batt...</td>\n",
       "      <td>0.006993</td>\n",
       "    </tr>\n",
       "    <tr>\n",
       "      <th>1</th>\n",
       "      <td>ca02</td>\n",
       "      <td>[news]</td>\n",
       "      <td>[austin, texa, committe, approv, gov, price, d...</td>\n",
       "      <td>[fight, whip, attack, defend, hold]</td>\n",
       "      <td>0.004184</td>\n",
       "    </tr>\n",
       "    <tr>\n",
       "      <th>2</th>\n",
       "      <td>ca03</td>\n",
       "      <td>[news]</td>\n",
       "      <td>[sever, defend, summerdal, polic, burglari, tr...</td>\n",
       "      <td>[defend, defens, defend, defend, defend, fight...</td>\n",
       "      <td>0.010934</td>\n",
       "    </tr>\n",
       "    <tr>\n",
       "      <th>3</th>\n",
       "      <td>ca04</td>\n",
       "      <td>[news]</td>\n",
       "      <td>[oslo, posit, element, emerg, oslo, meet, nort...</td>\n",
       "      <td>[rout, clash, conflict, conflict, attack, conf...</td>\n",
       "      <td>0.010909</td>\n",
       "    </tr>\n",
       "    <tr>\n",
       "      <th>4</th>\n",
       "      <td>ca05</td>\n",
       "      <td>[news]</td>\n",
       "      <td>[east, provid, organ, civil, defens, setup, be...</td>\n",
       "      <td>[defens, defens, defens, defens, defens, defen...</td>\n",
       "      <td>0.017593</td>\n",
       "    </tr>\n",
       "  </tbody>\n",
       "</table>\n",
       "</div>"
      ],
      "text/plain": [
       "    _id category                                            stemmed  \\\n",
       "0  ca01   [news]  [fulton, counti, grand, juri, said, friday, in...   \n",
       "1  ca02   [news]  [austin, texa, committe, approv, gov, price, d...   \n",
       "2  ca03   [news]  [sever, defend, summerdal, polic, burglari, tr...   \n",
       "3  ca04   [news]  [oslo, posit, element, emerg, oslo, meet, nort...   \n",
       "4  ca05   [news]  [east, provid, organ, civil, defens, setup, be...   \n",
       "\n",
       "                                             matches     ratio  \n",
       "0  [charg, charg, swipe, charg, charg, hold, batt...  0.006993  \n",
       "1                [fight, whip, attack, defend, hold]  0.004184  \n",
       "2  [defend, defens, defend, defend, defend, fight...  0.010934  \n",
       "3  [rout, clash, conflict, conflict, attack, conf...  0.010909  \n",
       "4  [defens, defens, defens, defens, defens, defen...  0.017593  "
      ]
     },
     "execution_count": 76,
     "metadata": {},
     "output_type": "execute_result"
    }
   ],
   "source": [
    "brown_data.head()"
   ]
  },
  {
   "cell_type": "code",
   "execution_count": 71,
   "metadata": {
    "collapsed": true
   },
   "outputs": [],
   "source": [
    "brown_data[\"matches\"] = brown_data[\"stemmed\"].apply(lambda l: [x for x in l if x in target_words])\n",
    "brown_data[\"ratio\"] = brown_data.apply(lambda row: (len(row[\"matches\"]))/(len(row[\"stemmed\"])),axis=1)"
   ]
  },
  {
   "cell_type": "code",
   "execution_count": 72,
   "metadata": {
    "collapsed": false
   },
   "outputs": [
    {
     "data": {
      "text/plain": [
       "(0, 0.06)"
      ]
     },
     "execution_count": 72,
     "metadata": {},
     "output_type": "execute_result"
    },
    {
     "data": {
      "image/png": "[encoded data removed]",
      "text/plain": [
       "<matplotlib.figure.Figure at 0x10bf97278>"
      ]
     },
     "metadata": {},
     "output_type": "display_data"
    }
   ],
   "source": [
    "brown_data.ratio.hist()\n",
    "plt.xlim(0, 0.06)"
   ]
  },
  {
   "cell_type": "code",
   "execution_count": 73,
   "metadata": {
    "collapsed": false
   },
   "outputs": [
    {
     "data": {
      "text/plain": [
       "(0, 0.06)"
      ]
     },
     "execution_count": 73,
     "metadata": {},
     "output_type": "execute_result"
    },
    {
     "data": {
      "image/png": "[encoded data removed]",
      "text/plain": [
       "<matplotlib.figure.Figure at 0x10eea8438>"
      ]
     },
     "metadata": {},
     "output_type": "display_data"
    }
   ],
   "source": [
    "df.ratio.hist()\n",
    "plt.xlim(0, 0.06)"
   ]
  },
  {
   "cell_type": "code",
   "execution_count": 74,
   "metadata": {
    "collapsed": false
   },
   "outputs": [
    {
     "data": {
      "text/plain": [
       "0.0098341742064713723"
      ]
     },
     "execution_count": 74,
     "metadata": {},
     "output_type": "execute_result"
    }
   ],
   "source": [
    "brown_data.ratio.mean()"
   ]
  },
  {
   "cell_type": "code",
   "execution_count": 75,
   "metadata": {
    "collapsed": false
   },
   "outputs": [
    {
     "data": {
      "text/plain": [
       "0.019327873201461388"
      ]
     },
     "execution_count": 75,
     "metadata": {},
     "output_type": "execute_result"
    }
   ],
   "source": [
    "df.ratio.mean()"
   ]
  }
 ],
 "metadata": {
  "kernelspec": {
   "display_name": "Python 3",
   "language": "python",
   "name": "python3"
  },
  "language_info": {
   "codemirror_mode": {
    "name": "ipython",
    "version": 3
   },
   "file_extension": ".py",
   "mimetype": "text/x-python",
   "name": "python",
   "nbconvert_exporter": "python",
   "pygments_lexer": "ipython3",
   "version": "3.4.3"
  }
 },
 "nbformat": 4,
 "nbformat_minor": 0
}
