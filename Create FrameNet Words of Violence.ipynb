{
 "cells": [
  {
   "cell_type": "markdown",
   "metadata": {},
   "source": [
    "# ReadMe\n",
    "\n",
    "This creates a list of words of violence from FrameNet. We identified the following relevant Frames:\n",
    "\n",
    "* *Attack* (ID 424)\n",
    "* *Defend* (ID 1330)\n",
    "* *Cause Harm* (ID 112)\n",
    "* *Hostile Encounter* (ID 93)\n",
    "\n",
    "And then extracted all lexical units from those frames. These lexical units were stemmed using the *Snowball Stemmer*, the same stemmer used to stem the debate articles.\n"
   ]
  },
  {
   "cell_type": "code",
   "execution_count": 10,
   "metadata": {
    "collapsed": true
   },
   "outputs": [],
   "source": [
    "from nltk.corpus import framenet as fn \n",
    "from nltk.stem import SnowballStemmer"
   ]
  },
  {
   "cell_type": "code",
   "execution_count": 11,
   "metadata": {
    "collapsed": true
   },
   "outputs": [],
   "source": [
    "def createTargetWords(f):\n",
    "    \"\"\"\n",
    "    Takes a frame and returns a set of stemmed lexical \n",
    "    units associated with that frame.\n",
    "    \"\"\"\n",
    "    return set([sb.stem(x.split(\".\")[0].split(\"_\")[0]) for x in f.lexUnit.keys()])"
   ]
  },
  {
   "cell_type": "code",
   "execution_count": 12,
   "metadata": {
    "collapsed": false
   },
   "outputs": [],
   "source": [
    "# collection of frames about violence/attacking\n",
    "beat_opponent = fn.frame(2074)\n",
    "attack = fn.frame(424)\n",
    "cause_harm = fn.frame(112)\n",
    "hostile_enounter = fn.frame(93)\n",
    "defend = fn.frame(1330)\n",
    "\n",
    "# additional potential Frames\n",
    "\n",
    "# damage = fn.frame(415)\n",
    "# firearm = fn.frame(290)\n",
    "# destroying = fn.frame(417)\n",
    "# death = fn.frame(53)"
   ]
  },
  {
   "cell_type": "code",
   "execution_count": 13,
   "metadata": {
    "collapsed": false
   },
   "outputs": [],
   "source": [
    "frames = [beat_opponent, attack, cause_harm, hostile_enounter, defend]"
   ]
  },
  {
   "cell_type": "code",
   "execution_count": 14,
   "metadata": {
    "collapsed": false
   },
   "outputs": [],
   "source": [
    "sb = SnowballStemmer(\"english\")"
   ]
  },
  {
   "cell_type": "code",
   "execution_count": 15,
   "metadata": {
    "collapsed": false
   },
   "outputs": [],
   "source": [
    "# Loops through frames and creates a set of all lexical units \n",
    "# associated with those frames\n",
    "target_words = set()\n",
    "for f in frames:\n",
    "    ws = createTargetWords(f)\n",
    "    target_words = target_words.union(ws)"
   ]
  },
  {
   "cell_type": "code",
   "execution_count": 17,
   "metadata": {
    "collapsed": false
   },
   "outputs": [
    {
     "data": {
      "text/plain": [
       "['war',\n",
       " 'whip',\n",
       " 'fractur',\n",
       " 'hostil',\n",
       " 'slice',\n",
       " 'horsewhip',\n",
       " 'fistfight',\n",
       " 'jump',\n",
       " 'flog',\n",
       " 'spear']"
      ]
     },
     "execution_count": 17,
     "metadata": {},
     "output_type": "execute_result"
    }
   ],
   "source": [
    "list(target_words)[:10]"
   ]
  },
  {
   "cell_type": "code",
   "execution_count": 18,
   "metadata": {
    "collapsed": false
   },
   "outputs": [],
   "source": [
    "# writes the targets words to a file\n",
    "with open(\"violent_words.txt\", \"w\") as fh:\n",
    "    fh.write(\"\\n\".join(target_words))"
   ]
  },
  {
   "cell_type": "markdown",
   "metadata": {
    "collapsed": true
   },
   "source": [
    "# Test: Counting violent words in random article."
   ]
  },
  {
   "cell_type": "code",
   "execution_count": 19,
   "metadata": {
    "collapsed": true
   },
   "outputs": [],
   "source": [
    "from textblob import TextBlob"
   ]
  },
  {
   "cell_type": "code",
   "execution_count": 20,
   "metadata": {
    "collapsed": true
   },
   "outputs": [],
   "source": [
    "text = TextBlob(\"\"\"Barack Obama labels Romney reckless in heated TV clash as White House race\n",
    "enters final lap\n",
    "US President Barack Obama snatched the advantage of the incumbency in the\n",
    "foreign policy debate with Republican Mitt Romney in Boca Raton, Florida last\n",
    "night, accusing him of advocating positions that were \"wrong and reckless\".\n",
    "Looking him in the eye, the president said: \"Every time you've offered an\n",
    "opinion you've been wrong\".\n",
    "For Mr Romney, who seemed less at ease than in the previous two face-offs and\n",
    "more than once found himself  agreeing with stances taken by the president, it\n",
    "was a night mostly of avoiding howlers in an area of American leadership on\n",
    "which he is necessarily less experienced.  Burnish his candidacy, however, he\n",
    "probably did not.\n",
    "If Mr Obama was the fiercer of the two it was because his task was more urgent -\n",
    "to stem the recent shift in the polls towards his foe including in some key\n",
    "battleground states.  Mocking a lament from Mr Romney that the US Navy is down\n",
    "to  ships from the usual level of , he fired: \"Governor, we also have\n",
    "fewer horses and bayonets\". The implication was that his rival was out of date\n",
    "and ignorant of the power of new military technology.\n",
    "The president also jabbed Mr Romney for a past remark suggesting that Russia -\n",
    "not the terror networks - was America's greatest \"geopolitical foe\".  \"The Cold\n",
    "War has been over for  years,\" Mr Obama said bluntly looking across the small\n",
    "debate table at the former Massachusetts governor. \"When it comes to your\n",
    "foreign policy, you seem to want to import the foreign policies of the s.\"\n",
    "\"Attacking me is not an agenda,\" Mr Romney shot back in one of his crisper\n",
    "moments. \"Attacking me is not how we deal with the challenges of the Middle\n",
    "East.\"  The governor repeatedly contended that after four years in office the\n",
    "president had accumulated a failed record on foreign policy, noting in\n",
    "particular that tumult that persists in parts of the Arab World, that al-Qa'ida\n",
    "remains a threat and Iran is still on course to attain a nuclear capability.\n",
    "Post-debate instant polling by US news organisations was lopsided in the\n",
    "president's favour. CBS News, whose news anchor Bob Schieffer was the evening's\n",
    "moderator, saw  per cent declaring Mr Obama the winner versus just  per cent\n",
    "for Mr Romney.  A CNN snap poll gave it to the president by an eight-point\n",
    "margin. But after an encounter that was less gripping and lacked the fireworks\n",
    "of the last one, the impact on the race may be limited.\n",
    "Not a surprise was the frequency with which both men turned the conversation\n",
    "back repeatedly to the domestic front. For Mr Romney it was the flailing\n",
    "economic economy.  For Mr Obama it was his commitment to returning dollars to\n",
    "investing at home, with an emphasis on education. \"I think the American people\n",
    "recognise that after a decade of war it's time to do some nation building here\n",
    "at home,\" Mr Obama said, underlining what said had been promises kept:\n",
    "concluding the war in Iraq and setting an end date for the one in Afghanistan.\n",
    "But Mr Obama took full opportunity in this last debate to tie his opponent to\n",
    "the previous administration. \"Both at home and abroad, he has proposed wrong and\n",
    "reckless policies. He's praised George Bush as a good economic steward and Dick\n",
    "Cheney as somebody who shows great wisdom and judgment,\" he said.\n",
    "Not predicted was the absence of any fresh attack on Mr Obama for the shifting\n",
    "explanations of what lay behind the  September attack in Benghazi, Libya, that\n",
    "killed US Ambassador Christopher Stevens and three other Americans. \"I think Mr\n",
    "Romney was trying to be informative tonight rather than combative,\" explained\n",
    "John Sununu, a campaign co-chair and former New Hampshire governor.  His\n",
    "candidate's priority, he said, had been show that he could \"connect the pieces\"\n",
    "on foreign policy.\n",
    "Quiet satisfaction was the response, meanwhile, of Obama aides here last night.\n",
    "\"We are feeling really good about the president's performance,\" suggested\n",
    "campaign manager Jim Messina. \"Mr Romney did not look like a commander-in-chief,\n",
    "he did not pass the test and that is a bad moment for him.\"\n",
    "Mr Romney also allowed the question of General Motors and its bail-out into the\n",
    "conversation, a topic that is never likely to play well for him particularly in\n",
    "the key state of Ohio. When he suggested that he had argued for federal\n",
    "assistance for the company as well as advocating that it be allowed to go\n",
    "through bankruptcy, Mr Obama vigorously objected.  \"Governor, the people in\n",
    "Detroit don't forget,\" Mr Obama declared.\n",
    "Back to international affairs, Mr Romney argued Mr Obama had projected weakness\n",
    "upon taking office, resurrecting his claim that he had been an \"apologist\" for\n",
    "past American policies and had allowed the relationship with Israel to fray.  In\n",
    "turn, he argued, foreign foes of the US, including the \"mullahs\" in Iran had\n",
    "sensed that weakness and taken advantage.\n",
    "Yet, beyond the rhetoric of Mr Romney, most viewers may have had difficulty\n",
    "divining what differences lie between them on dealing with specific hotspots\n",
    "including Iran and also Syria. \"Mr Romney offered his endorsement on just about\n",
    "everything Mr Obama has done,\" a spokeswoman for the president, Jen Psaki,\n",
    "suggested later.\n",
    "What do the voters? Reaction to the Romney Obama TV clash\n",
    "Jake Duhaime, . Publicity and Special Projects manager, votes in Massachusetts\n",
    " - did not vote\n",
    " - plans to vote Romney\n",
    "As someone who used to call Detroit home, it has been hysterical seeing both\n",
    "candidates discuss the auto industry, especially when they talk about jobs being\n",
    "shipped overseas. The thing I really marvel at, though is that Mitt Romney has\n",
    "not once, not ONCE, mentioned that earlier this year, government-owned Chevrolet\n",
    "pledged to spend $ million to put its name on Manchester United's kit. That's\n",
    ", middle class jobs right there.\n",
    "Michael Rasmussen, , Cybercrime Prevention Specialist, votes in Oregon\n",
    " - voted Obama\n",
    " - plans to vote Obama\n",
    "Obama's night. Romney spent most of it agreeing with Obama's policies, and was\n",
    "called out for his shifting stands. Obama's gentlest, and perhaps best,\n",
    "reprimand was to mention Romney's disastrous overseas trip in August, while\n",
    "reminding us of how he comported himself while a candidate in .  In the\n",
    "closing moments Romney just repeated talking points about the economy - without\n",
    "a tie to foreign policy.  He clearly knew he wasn't winning by discussing the\n",
    "subject matter at hand.\n",
    "Katie McKernan, , Stay at home mom, votes in Virginia.\n",
    " - Voted McCain\n",
    " - Plans to vote Romney\n",
    "You know who lost tonight? Ambien. Because nary a US citizen needed a sleep aid\n",
    "after that debate. The only people who watched the entire debate were political\n",
    "junkies, or people who have already made up their minds, myself included.  For\n",
    "those who persevered, the President's assertion in his closing remarks that he\n",
    "will \"always listen to your voices\" rings terribly false. I still remember Mr.\n",
    "Obama calling me, and fellow Americans who objected to his policies\n",
    "\"teabaggers.\" And claims that he stands by Israel? I'd like Netanyahu's opinion\n",
    "on that one.\n",
    "José Hernández-Lagunes, . University employee, votes in Illinois.\n",
    " - did not vote\n",
    " - plans to vote Obama\n",
    "Romney has no grasp of foreign policy, and an even worse knowledge of geography.\n",
    "He asserted that Syria is Iran's route to the sea. This just blew my mind. The\n",
    "president was insightful, funny, eloquent and poignant. Game, set, match, right?\n",
    "Well, I really doubt he's cinched this. I really, truly believe there are enough\n",
    "idiots in this country to elect Romney. Thankfully, I have dual citizenship. I\n",
    "can flee the sinking boat if this jackhole wins.\n",
    "Diane Bergin, , Housewife. Votes in Florida.\n",
    " - Voted McCain\n",
    " - undecied\n",
    "President Obama clearly doesn't prioritize national defense. He mocked Governor\n",
    "Romney on the military and that alone was a major drawback for me. We have these\n",
    "forces called \"Special Operations\" and they use whatever is necessary to get the\n",
    "job done, so the \"bayonets and horses\" comment was reckless. Although they both\n",
    "did well on the debate, I felt Romney had a more positive vision for the future.\n",
    "Sandra Gross, . Copy editor, votes in Michigan.\n",
    " - voted Obama\n",
    " - plans to vote Obama\n",
    "Romney lives in a s white American male bubble. With his stumbling speech\n",
    "and apparent ignorance about Islam, it's clear he doesn't understand our\n",
    "diverse, modern world.  He stated that the U.S. has the strongest military in\n",
    "the world in one breath, and that we need to cut tax deductions that are crucial\n",
    "to the U.S. middle class in order to strengthen our military in another breath.\n",
    "President Obama gave us detailed plans, while Romney just gave us slogans.  It\n",
    "would be a disaster for the U.S. and the world if we elect Mitt Romney.\n",
    "Chris Sasso, . Business owner and entrepreneur, votes in New York.\n",
    " - Voted McCain.\n",
    " - Plans to vote Romney\n",
    "Since I started my business in , I've seem competition from China increase\n",
    "exponentially. The amount of counterfeit products and manufacturing jobs\n",
    "switching from here at home to abroad is alarming. This is a greater problem\n",
    "than the President is willing to admit, and he has shown that over the last \n",
    "years that it's a problem he does not want to fix. Gov Romney's promise to label\n",
    "them a currency manipulator is a starting point that will drastically reverse\n",
    "this course.\n",
    "Anna Schwiessinger, . Client Services Coordinator, votes in California.\n",
    " - voted Obama\n",
    " - plans to vote Obama\n",
    "The exchange that ended with the Obama telling Romney that \"we have fewer horses\n",
    "and bayonets\" than during the Second World War, and telling him that military\n",
    "funding is \"not a game of Battleship\" is genius. I'm also glad that the\n",
    "President reminded Romney that he was invested in Chinese oil companies that did\n",
    "business with Iran.\n",
    "Andy Sorensen, . University Student, votes in Minnesota.\n",
    " - Voted McCain\n",
    " - Plans to vote Romney\n",
    "I may be an Obama opponent, but he did get us out of Iraq which he did promise,\n",
    "and takes credit for killing for Bin Laden. However, outside of that, the Obama\n",
    "foreign policy I feel has been a complete disaster. More often than not, he's\n",
    "sat on the sidelines and, most recently in the case of the Libyan embassy\n",
    "bombing, proven that he isn't capable of making big decisions. Romney showed\n",
    "that up tonight.\n",
    "Brian Slack, . Business Consultant, votes in PA.\n",
    " - voted Obama\n",
    " - plans to vote Obama\n",
    "Foreign policy is Mitt Romney's biggest perceived weakness, which is probably\n",
    "why we didn't hear any actual new ideas tonight.  Instead, he basically said:\n",
    "\"The President was right... but I would have done it sooner.\" Speaking of Obama,\n",
    "he was mad tonight, and frankly I'm happy he snapped a bit.  This was the\n",
    "culmination of a lot of lies, and frankly I'd be disappointed if he didn't get\n",
    "riled.\n",
    "Molly McCallum, , PhD Student and Consultant.\n",
    " - voted Obama\n",
    " - plans to vote Obama\n",
    "I did not feel like Romney was proposing much different from what Bush and, now,\n",
    "Obama is doing in many situations. But he sometimes drove a harder line, and it\n",
    "is much easier for a candidate to propose such harsh measures, like bombing a\n",
    "country, than for a sitting President to make the idle or hypothetical threats.\n",
    "I will continue to support Obama because I don't believe Romney is equipped to\n",
    "handle a significant foreign policy challenge, and his social policies are\n",
    "unacceptable.\n",
    "Ruben D. Sanchez, Jr., . Soldier in US Army National Guard/Flight Attendant,\n",
    "votes in Illinois.\n",
    " - Voted McCain\n",
    " - Plans to vote Romney\n",
    "Obama's weakness in foreign policy became apparent in tonight's final debate. I\n",
    "do have to admit that Romney didn't take to president to task as aggressively\n",
    "for his foreign policy disasters as I would have liked. But Obama looked\n",
    "desperate tonight. At the same time, Gov. Romney just came off as a nice\n",
    "\"peaceful\" guy who can, nonetheless, can be President and Commander In Chief of\n",
    "the United States Armed Forces.\n",
    "Olivia Fahey, . Student, Wisconsin.\n",
    " - did not vote\n",
    " - plans to vote Obama\n",
    "I found it interesting that Romney says he's so keen on bringing gender equality\n",
    "to the Middle East, especially considering how blatantly anti-woman his platform\n",
    "is. Romney's answers seemed somewhat weak, and lacking in substance, while I\n",
    "felt that the President was poised, well informed and firing on all cylinders.\n",
    "Sam Miller, . Attorney, votes in Massachusetts\n",
    " - Voted McCain\n",
    " - Plans to vote Romney\n",
    "The debate topics are outside of the knowledge of average voter, and both Romney\n",
    "and Obama recognized this by tying the answers to their campaign stump slogans.\n",
    "The two issues on which they differed were Israel and China. Obama stated he\n",
    "would \"stand with\" Israel if it were attacked, while Romney really made clear\n",
    "that he would defend Israel. On China, Romney used his strength on economic\n",
    "policy to highlight the differences between himself and Obama. Aside from these\n",
    "areas, it was very lacklustre.\n",
    "Julie Saxenmeyer, . Development specialist for a public library system, votes\n",
    "in Maryland.\n",
    " - voted Obama\n",
    " - plans to vote Obama\n",
    "I'm sure Romney supporters will disagree, but I thought Obama was the clear,\n",
    "decisive winner tonight. He has four years of experience in this job, and it\n",
    "showed. Governor Romney knew his talking points, but beyond that, he was clearly\n",
    "out of his league. He thinks that Syria is Iran's path to the sea. Has he looked\n",
    "at a map? Embarrassing. We need to have a leader who understands not only\n",
    "geography, but diplomacy. President Obama is the only man for the job.\n",
    "Brian Clutter, . IT Support Specialist, votes in Ohio.\n",
    " - Voted McCain\n",
    " - Plans to vote Romney\n",
    "My biggest take-away was Romney's obvious effort to differentiate himself from\n",
    "the cavalier Bush administration and how it handled foreign policy.  It's\n",
    "refreshing to see the Republican Party pushing a platform of peace.  Otherwise I\n",
    "thought the debate was a tie: President Obama looked Presidential (as he should)\n",
    "and Governor Romney did as well.\n",
    "Toby Hatchett, . Freelance journalist, votes in New Hampshire.\n",
    " - voted Obama\n",
    " - plans to vote Obama\n",
    "Words almost fail me. How anyone with a modicum of sense and rationality could\n",
    "possibly follow Romney's non-arguments, let alone agree with him, is beyond me.\n",
    "I must be naive in hoping my fellow country people are thinkers.\n",
    "Clayton Bink, . Maintenance worker, votes in New York State.\n",
    " - Voted McCain\n",
    " - Plans to vote Romney\n",
    "Tonights' debate made it obvious that Mitt Romney is completely capable of being\n",
    "POTUS. President Obamas' foreign policy has done nothing to make America safer,\n",
    "quite the opposite. Iran is four years closer to having a nuclear bomb,\n",
    "Al-Qa'ida is gaining strength, and we have had four Americans killed in Libya.\n",
    "The USA needs a President that will stand up to foreign bullies and not coddle\n",
    "them.\n",
    "Kathy Tobiassen, . Home-maker, votes in New York\n",
    " - voted Obama\n",
    " - plans to vote Obama\n",
    "here really didn't seem to be much difference between Obama and Romney in terms\n",
    "of policy. Often Mitt's stance was: \"I agree with what Pres. Obama did, but I\n",
    "would have done it sooner or more severely\".  It made him seem ineffectual and\n",
    "Obama more presidential because he actually understood the complexities of\n",
    "implementing policies.\n",
    "\"\"\")"
   ]
  },
  {
   "cell_type": "code",
   "execution_count": 21,
   "metadata": {
    "collapsed": false
   },
   "outputs": [],
   "source": [
    "source_words = [sb.stem(w) for w in text.words]"
   ]
  },
  {
   "cell_type": "code",
   "execution_count": 22,
   "metadata": {
    "collapsed": false
   },
   "outputs": [
    {
     "data": {
      "text/plain": [
       "['clash',\n",
       " 'bayonet',\n",
       " 'jab',\n",
       " 'war',\n",
       " 'attack',\n",
       " 'attack',\n",
       " 'war',\n",
       " 'war',\n",
       " 'set',\n",
       " 'attack',\n",
       " 'lay',\n",
       " 'attack',\n",
       " 'combat',\n",
       " 'clash',\n",
       " 'rout',\n",
       " 'set',\n",
       " 'defens',\n",
       " 'bayonet',\n",
       " 'cut',\n",
       " 'bayonet',\n",
       " 'war',\n",
       " 'bomb',\n",
       " 'bomb',\n",
       " 'attack',\n",
       " 'defend',\n",
       " 'bomb']"
      ]
     },
     "execution_count": 22,
     "metadata": {},
     "output_type": "execute_result"
    }
   ],
   "source": [
    "[x for x in source_words if x in target_words]"
   ]
  }
 ],
 "metadata": {
  "kernelspec": {
   "display_name": "Python 3",
   "language": "python",
   "name": "python3"
  },
  "language_info": {
   "codemirror_mode": {
    "name": "ipython",
    "version": 3
   },
   "file_extension": ".py",
   "mimetype": "text/x-python",
   "name": "python",
   "nbconvert_exporter": "python",
   "pygments_lexer": "ipython3",
   "version": "3.4.3"
  }
 },
 "nbformat": 4,
 "nbformat_minor": 0
}
