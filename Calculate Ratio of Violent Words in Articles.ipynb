{
 "cells": [
  {
   "cell_type": "markdown",
   "metadata": {},
   "source": [
    "# ReadMe\n",
    "\n",
    "This script calculates the ratio of violent words to non-violent words in articles within a collection."
   ]
  },
  {
   "cell_type": "code",
   "execution_count": 1,
   "metadata": {
    "collapsed": true
   },
   "outputs": [],
   "source": [
    "import pymongo\n",
    "import pandas as pd\n",
    "\n",
    "from tqdm import tqdm"
   ]
  },
  {
   "cell_type": "code",
   "execution_count": 2,
   "metadata": {
    "collapsed": true
   },
   "outputs": [],
   "source": [
    "def readViolentWords():\n",
    "    with open(\"violent_words.txt\") as fh:\n",
    "        target_words = fh.read().split(\"\\n\")\n",
    "    target_words = [x for x in target_words if x not in [\"club\", \"set\",\"burn\",\"war\"]]\n",
    "    target_words.append(\"aggress\") # we want to also have aggressive in there\n",
    "    return(target_words)"
   ]
  },
  {
   "cell_type": "code",
   "execution_count": 3,
   "metadata": {
    "collapsed": true
   },
   "outputs": [],
   "source": [
    "def findMatches(stemmed_list, violent_words):\n",
    "    matches = [x for x in stemmed_list if x in violent_words]\n",
    "    return matches"
   ]
  },
  {
   "cell_type": "code",
   "execution_count": 4,
   "metadata": {
    "collapsed": false
   },
   "outputs": [],
   "source": [
    "client = pymongo.Connection()\n",
    "violents = readViolentWords()"
   ]
  },
  {
   "cell_type": "code",
   "execution_count": 5,
   "metadata": {
    "collapsed": false
   },
   "outputs": [
    {
     "name": "stdout",
     "output_type": "stream",
     "text": [
      "|##########| 61/61 100% [elapsed: 00:00 left: 00:00, 212.09 iters/sec]"
     ]
    }
   ],
   "source": [
    "# collection = client.politics.articles\n",
    "# collection = client.politics.debates\n",
    "collection = client.politics.brown\n",
    "\n",
    "cursor = collection.find({\"stemmed\": {\"$exists\": 1}})\n",
    "for document in tqdm(cursor, total=cursor.count(), leave=True):\n",
    "    matches = findMatches(document[\"stemmed\"], violents)\n",
    "    ratio = len(matches)/len(document[\"stemmed\"])\n",
    "    \n",
    "    collection.find_and_modify({\n",
    "            \"_id\": document[\"_id\"]\n",
    "        },{\n",
    "            \"$set\": {\n",
    "                \"violent_words\": matches,\n",
    "                \"violent_ratio\": ratio\n",
    "            }\n",
    "        })"
   ]
  }
 ],
 "metadata": {
  "kernelspec": {
   "display_name": "Python 3",
   "language": "python",
   "name": "python3"
  },
  "language_info": {
   "codemirror_mode": {
    "name": "ipython",
    "version": 3
   },
   "file_extension": ".py",
   "mimetype": "text/x-python",
   "name": "python",
   "nbconvert_exporter": "python",
   "pygments_lexer": "ipython3",
   "version": "3.4.3"
  }
 },
 "nbformat": 4,
 "nbformat_minor": 0
}
